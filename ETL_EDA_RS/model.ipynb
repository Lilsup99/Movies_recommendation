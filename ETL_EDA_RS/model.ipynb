{
 "cells": [
  {
   "cell_type": "markdown",
   "metadata": {},
   "source": [
    "# Sistema de recomendacion basado en contenido"
   ]
  },
  {
   "cell_type": "code",
   "execution_count": 6,
   "metadata": {},
   "outputs": [],
   "source": [
    "import numpy as np\n",
    "import pandas as pd\n",
    "df_movies = pd.read_csv('C:\\\\Users\\ManVi\\Desktop\\\\repo\\movies_dataset_clean1_1.csv')"
   ]
  },
  {
   "cell_type": "code",
   "execution_count": 254,
   "metadata": {},
   "outputs": [
    {
     "data": {
      "text/html": [
       "<div>\n",
       "<style scoped>\n",
       "    .dataframe tbody tr th:only-of-type {\n",
       "        vertical-align: middle;\n",
       "    }\n",
       "\n",
       "    .dataframe tbody tr th {\n",
       "        vertical-align: top;\n",
       "    }\n",
       "\n",
       "    .dataframe thead th {\n",
       "        text-align: right;\n",
       "    }\n",
       "</style>\n",
       "<table border=\"1\" class=\"dataframe\">\n",
       "  <thead>\n",
       "    <tr style=\"text-align: right;\">\n",
       "      <th></th>\n",
       "      <th>Unnamed: 0</th>\n",
       "      <th>belongs_to_collection</th>\n",
       "      <th>budget</th>\n",
       "      <th>id</th>\n",
       "      <th>original_language</th>\n",
       "      <th>overview</th>\n",
       "      <th>popularity</th>\n",
       "      <th>release_date</th>\n",
       "      <th>revenue</th>\n",
       "      <th>runtime</th>\n",
       "      <th>...</th>\n",
       "      <th>vote_count</th>\n",
       "      <th>Genres</th>\n",
       "      <th>pro_comp1</th>\n",
       "      <th>pro_comp2</th>\n",
       "      <th>country</th>\n",
       "      <th>language</th>\n",
       "      <th>release_year</th>\n",
       "      <th>return</th>\n",
       "      <th>director</th>\n",
       "      <th>actors</th>\n",
       "    </tr>\n",
       "  </thead>\n",
       "  <tbody>\n",
       "    <tr>\n",
       "      <th>0</th>\n",
       "      <td>0</td>\n",
       "      <td>Toy Story Collection</td>\n",
       "      <td>30000000.0</td>\n",
       "      <td>862</td>\n",
       "      <td>en</td>\n",
       "      <td>Led by Woody, Andy's toys live happily in his ...</td>\n",
       "      <td>21.946943</td>\n",
       "      <td>1995-10-30</td>\n",
       "      <td>373554033.0</td>\n",
       "      <td>81.0</td>\n",
       "      <td>...</td>\n",
       "      <td>5415.0</td>\n",
       "      <td>['Animation', 'Comedy', 'Family']</td>\n",
       "      <td>Pixar Animation Studios</td>\n",
       "      <td>NaN</td>\n",
       "      <td>United States of America</td>\n",
       "      <td>English</td>\n",
       "      <td>1995</td>\n",
       "      <td>12.451801</td>\n",
       "      <td>John Lasseter</td>\n",
       "      <td>['Tom Hanks', 'Tim Allen', 'Don Rickles']</td>\n",
       "    </tr>\n",
       "    <tr>\n",
       "      <th>1</th>\n",
       "      <td>1</td>\n",
       "      <td>NaN</td>\n",
       "      <td>65000000.0</td>\n",
       "      <td>8844</td>\n",
       "      <td>en</td>\n",
       "      <td>When siblings Judy and Peter discover an encha...</td>\n",
       "      <td>17.015539</td>\n",
       "      <td>1995-12-15</td>\n",
       "      <td>262797249.0</td>\n",
       "      <td>104.0</td>\n",
       "      <td>...</td>\n",
       "      <td>2413.0</td>\n",
       "      <td>['Adventure', 'Fantasy', 'Family']</td>\n",
       "      <td>TriStar Pictures</td>\n",
       "      <td>Teitler Film</td>\n",
       "      <td>United States of America</td>\n",
       "      <td>Français</td>\n",
       "      <td>1995</td>\n",
       "      <td>4.043035</td>\n",
       "      <td>Joe Johnston</td>\n",
       "      <td>['Robin Williams', 'Jonathan Hyde', 'Kirsten D...</td>\n",
       "    </tr>\n",
       "  </tbody>\n",
       "</table>\n",
       "<p>2 rows × 24 columns</p>\n",
       "</div>"
      ],
      "text/plain": [
       "   Unnamed: 0 belongs_to_collection      budget    id original_language  \\\n",
       "0           0  Toy Story Collection  30000000.0   862                en   \n",
       "1           1                   NaN  65000000.0  8844                en   \n",
       "\n",
       "                                            overview  popularity release_date  \\\n",
       "0  Led by Woody, Andy's toys live happily in his ...   21.946943   1995-10-30   \n",
       "1  When siblings Judy and Peter discover an encha...   17.015539   1995-12-15   \n",
       "\n",
       "       revenue  runtime  ... vote_count                              Genres  \\\n",
       "0  373554033.0     81.0  ...     5415.0   ['Animation', 'Comedy', 'Family']   \n",
       "1  262797249.0    104.0  ...     2413.0  ['Adventure', 'Fantasy', 'Family']   \n",
       "\n",
       "                 pro_comp1     pro_comp2                   country  language  \\\n",
       "0  Pixar Animation Studios           NaN  United States of America   English   \n",
       "1         TriStar Pictures  Teitler Film  United States of America  Français   \n",
       "\n",
       "  release_year     return       director  \\\n",
       "0         1995  12.451801  John Lasseter   \n",
       "1         1995   4.043035   Joe Johnston   \n",
       "\n",
       "                                              actors  \n",
       "0          ['Tom Hanks', 'Tim Allen', 'Don Rickles']  \n",
       "1  ['Robin Williams', 'Jonathan Hyde', 'Kirsten D...  \n",
       "\n",
       "[2 rows x 24 columns]"
      ]
     },
     "execution_count": 254,
     "metadata": {},
     "output_type": "execute_result"
    }
   ],
   "source": [
    "df_movies.head(2)\n"
   ]
  },
  {
   "cell_type": "code",
   "execution_count": 263,
   "metadata": {},
   "outputs": [],
   "source": [
    "df_movies = pd.read_csv('movies_dataset_clean1_1.csv')\n",
    "\n"
   ]
  },
  {
   "cell_type": "markdown",
   "metadata": {},
   "source": [
    "#### se trabajara el modelo de recomendacion a partir de las columnas `Genres` y `overview`"
   ]
  },
  {
   "cell_type": "code",
   "execution_count": 275,
   "metadata": {},
   "outputs": [],
   "source": [
    "#importo los modulos de sk_learn necesarios para el proyecto\n",
    "#TfidfVectorizer: para calcular el TD-IDF de las columnas overview y genres.\n",
    "#cosine_similarity: para calcular la matriz de similaridad de las peliculas\n",
    "\n",
    "from sklearn.feature_extraction.text import TfidfVectorizer\n",
    "from sklearn.metrics.pairwise import cosine_similarity\n",
    "\n",
    "# Cargar el dataset\n",
    "df_movies = pd.read_csv('movies_dataset_clean1_1.csv')\n",
    "\n",
    "#no uso todos los registros,no tengo los suficientes recursos para\n",
    "#procesarlos todos, se deberian usar mas datos para obtener mejores\n",
    "#recomendaciones\n",
    "df_movies = df_movies.loc[:2300]\n",
    "#relleno los nulos para el campo overview\n",
    "df_movies['overview'] = df_movies['overview'].fillna('')\n",
    "\n",
    "\n",
    "# Crear vectores TF-IDF\n",
    "# uno para overview, y otro para genre\n",
    "tfidf_vectorizer = TfidfVectorizer(min_df=5 ,max_df=0.7,token_pattern= r'\\b[a-zA-Z]\\w+\\b' ,stop_words='english')\n",
    "tfidf_vector_genres = tfidf_vectorizer.fit_transform(df_movies['Genres'])\n",
    "tfidf_vector_overview = tfidf_vectorizer.fit_transform(df_movies['overview'])\n",
    "\n",
    "tfidf_df_genres = pd.DataFrame(tfidf_vector_genres.toarray())\n",
    "tfidf_df_overview = pd.DataFrame(tfidf_vector_overview.toarray())\n",
    "tfidf_df_genres = tfidf_df_genres.astype('float16')\n",
    "tfidf_df_overview = tfidf_df_overview.astype('float16')\n",
    "\n",
    "# Calcular la matriz de similitud coseno para los dos arrays de vectores\n",
    "cosine_sim_genres = cosine_similarity(tfidf_df_genres.values)\n",
    "cosine_sim_overview = cosine_similarity(tfidf_df_overview.values)\n",
    "\n",
    "# Función de recomendación\n",
    "def get_recommendations(title, cosine_sim):\n",
    "    '''\n",
    "    def get_recommendation:\n",
    "    \n",
    "    title ---> titulo de una pelicula, como aparece en el dataset\n",
    "    cosine_sim ---> matriz de similaridad. Puedes tomar 2 valores:\n",
    "    \n",
    "    cosine_sim_genres: se hace la recomendacion en base a los generos\n",
    "    cosine_sim_overview: se hace la recomendacion en base a la overview\n",
    "    \n",
    "    return: lista con las primeras 5 peliculas mas similares a la dada\n",
    "    \n",
    "    '''\n",
    "    idx = df_movies.index[df_movies['title'] == title].tolist()[0]\n",
    "    sim_scores = list(enumerate(cosine_sim[idx]))\n",
    "    sim_scores = sorted(sim_scores, key=lambda x: x[1], reverse=True)\n",
    "    sim_scores = sim_scores[1:6]\n",
    "    movie_indices = [i[0] for i in sim_scores]\n",
    "    return df_movies['title'].iloc[movie_indices]\n",
    "\n"
   ]
  },
  {
   "cell_type": "code",
   "execution_count": 248,
   "metadata": {},
   "outputs": [
    {
     "data": {
      "text/plain": [
       "array([[1.        , 0.01898132, 0.        , ..., 0.        , 0.01426819,\n",
       "        0.02798732],\n",
       "       [0.01898132, 1.        , 0.05474509, ..., 0.        , 0.        ,\n",
       "        0.        ],\n",
       "       [0.        , 0.05474509, 1.        , ..., 0.        , 0.        ,\n",
       "        0.        ],\n",
       "       ...,\n",
       "       [0.        , 0.        , 0.        , ..., 1.        , 0.03840896,\n",
       "        0.        ],\n",
       "       [0.01426819, 0.        , 0.        , ..., 0.03840896, 1.        ,\n",
       "        0.01877063],\n",
       "       [0.02798732, 0.        , 0.        , ..., 0.        , 0.01877063,\n",
       "        1.        ]])"
      ]
     },
     "execution_count": 248,
     "metadata": {},
     "output_type": "execute_result"
    }
   ],
   "source": [
    "cosine_sim_overview"
   ]
  },
  {
   "cell_type": "code",
   "execution_count": 164,
   "metadata": {},
   "outputs": [
    {
     "data": {
      "text/plain": [
       "0                          Toy Story\n",
       "1                            Jumanji\n",
       "2                   Grumpier Old Men\n",
       "3                  Waiting to Exhale\n",
       "4        Father of the Bride Part II\n",
       "                    ...             \n",
       "2596                   Summer of Sam\n",
       "2597                  Broken Vessels\n",
       "2598         Les Amants du Pont-Neuf\n",
       "2599    Late August, Early September\n",
       "2600                    American Pie\n",
       "Name: title, Length: 2601, dtype: object"
      ]
     },
     "execution_count": 164,
     "metadata": {},
     "output_type": "execute_result"
    }
   ],
   "source": [
    "df_movies['title']"
   ]
  },
  {
   "cell_type": "code",
   "execution_count": 274,
   "metadata": {},
   "outputs": [
    {
     "name": "stdout",
     "output_type": "stream",
     "text": [
      "Recomendaciones para 'Toy Story':\n",
      "['Oliver & Company', 'A Close Shave', 'The Wrong Trousers', 'Meet the Deedles', 'The Great Mouse Detective']\n"
     ]
    }
   ],
   "source": [
    "# Ejemplo de recomendación\n",
    "movie_title = 'Toy Story'\n",
    "print(f\"Recomendaciones para '{movie_title}':\")\n",
    "print(list(get_recommendations(movie_title, cosine_sim_genres)))\n"
   ]
  },
  {
   "cell_type": "code",
   "execution_count": 270,
   "metadata": {},
   "outputs": [
    {
     "name": "stdout",
     "output_type": "stream",
     "text": [
      "Recomendaciones para 'Toy Story':\n",
      "1938             Condorman\n",
      "485                 Malice\n",
      "1039         The Sunchaser\n",
      "448      For Love or Money\n",
      "749     I Shot Andy Warhol\n",
      "Name: title, dtype: object\n"
     ]
    }
   ],
   "source": [
    "# Ejemplo de recomendación\n",
    "movie_title = 'Toy Story'\n",
    "print(f\"Recomendaciones para '{movie_title}':\")\n",
    "print(get_recommendations(movie_title, cosine_sim_overview))\n"
   ]
  },
  {
   "cell_type": "code",
   "execution_count": 276,
   "metadata": {},
   "outputs": [],
   "source": [
    "# GUARDO ESTOS DATOS PARA USARLOS EN LA API\n",
    "data = pd.DataFrame(cosine_sim_genres)\n",
    "\n",
    "data.to_csv('movie_simil_genres.csv')"
   ]
  }
 ],
 "metadata": {
  "kernelspec": {
   "display_name": "Python 3",
   "language": "python",
   "name": "python3"
  },
  "language_info": {
   "codemirror_mode": {
    "name": "ipython",
    "version": 3
   },
   "file_extension": ".py",
   "mimetype": "text/x-python",
   "name": "python",
   "nbconvert_exporter": "python",
   "pygments_lexer": "ipython3",
   "version": "3.10.11"
  },
  "orig_nbformat": 4
 },
 "nbformat": 4,
 "nbformat_minor": 2
}
